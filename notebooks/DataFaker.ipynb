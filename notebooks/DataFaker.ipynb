{
 "cells": [
  {
   "cell_type": "markdown",
   "metadata": {},
   "source": [
    "# Fake data creator for the DB Project\n",
    "This was copied from something I had done for an earlier assignment."
   ]
  },
  {
   "cell_type": "code",
   "execution_count": 1,
   "metadata": {},
   "outputs": [
    {
     "name": "stdout",
     "output_type": "stream",
     "text": [
      "Requirement already satisfied: Faker in /usr/local/python/3.10.13/lib/python3.10/site-packages (24.4.0)\n",
      "Requirement already satisfied: python-dateutil>=2.4 in /home/codespace/.local/lib/python3.10/site-packages (from Faker) (2.9.0.post0)\n",
      "Requirement already satisfied: six>=1.5 in /home/codespace/.local/lib/python3.10/site-packages (from python-dateutil>=2.4->Faker) (1.16.0)\n"
     ]
    }
   ],
   "source": [
    "!pip install Faker"
   ]
  },
  {
   "cell_type": "code",
   "execution_count": 4,
   "metadata": {},
   "outputs": [
    {
     "data": {
      "text/markdown": [
       "```SQL\n",
       "\n",
       "INSERT INTO LIBRARY.PUBLISHER\n",
       "\tVALUES('Jennings PLC', '6700 Stevens Shoals\n",
       "Elizabethborough, IA 62697', '584-633-7063'), \n",
       "('Smith, Nunez and Myers', '478 Christopher Gateway\n",
       "West Debramouth, NV 28645', '900-535-0619'), \n",
       "('Peterson Ltd', '54984 Ferguson Dam\n",
       "Denisefort, NV 85984', '770-293-3838');\n",
       "\n",
       "```"
      ],
      "text/plain": [
       "<IPython.core.display.Markdown object>"
      ]
     },
     "metadata": {},
     "output_type": "display_data"
    },
    {
     "data": {
      "text/markdown": [
       "```SQL\n",
       "\n",
       "INSERT INTO LIBRARY.BOOK (title, publisher_name)\n",
       "\tVALUES('Face-to-face mobile archive', 'Peterson Ltd'), \n",
       "('Team-oriented 5thgeneration paradigm', 'Jennings PLC'), \n",
       "('Innovative zero administration support', 'Jennings PLC');\n",
       "\n",
       "```"
      ],
      "text/plain": [
       "<IPython.core.display.Markdown object>"
      ]
     },
     "metadata": {},
     "output_type": "display_data"
    },
    {
     "data": {
      "text/markdown": [
       "```SQL\n",
       "\n",
       "INSERT INTO LIBRARY.BOOK_AUTHORS (author_name, book_id)\n",
       "\tVALUES('Anita Jones', (SELECT book_id FROM library.book WHERE title = 'Face-to-face mobile archive')), \n",
       "('Timothy Landry', (SELECT book_id FROM library.book WHERE title = 'Team-oriented 5thgeneration paradigm')), \n",
       "('Richard Hall', (SELECT book_id FROM library.book WHERE title = 'Innovative zero administration support'));\n",
       "\n",
       "```"
      ],
      "text/plain": [
       "<IPython.core.display.Markdown object>"
      ]
     },
     "metadata": {},
     "output_type": "display_data"
    },
    {
     "data": {
      "text/markdown": [
       "```SQL\n",
       "\n",
       "INSERT INTO LIBRARY.LIBRARY_BRANCH (branch_name, address)\n",
       "\tVALUES('Carrie Hammond Branch', '2370 Megan Lakes Apt. 526\n",
       "Lake Karenborough, VI 86533'), \n",
       "('Melissa Palmer Branch', '7032 Hannah Villages Suite 972\n",
       "Nicoleborough, IL 07129'), \n",
       "('Michael Barnes Branch', '6431 Scott Tunnel Suite 332\n",
       "Alexishaven, KS 97971');\n",
       "\n",
       "```"
      ],
      "text/plain": [
       "<IPython.core.display.Markdown object>"
      ]
     },
     "metadata": {},
     "output_type": "display_data"
    },
    {
     "data": {
      "text/markdown": [
       "```SQL\n",
       "\n",
       "INSERT INTO LIBRARY.BOOK_COPIES (no_of_copies, book_id, branch_id)\n",
       "\tVALUES('2', (SELECT book_id FROM library.book WHERE title = 'Face-to-face mobile archive'), (SELECT branch_id FROM library.library_branch WHERE branch_name = 'Carrie Hammond Branch')), \n",
       "('4', (SELECT book_id FROM library.book WHERE title = 'Face-to-face mobile archive'), (SELECT branch_id FROM library.library_branch WHERE branch_name = 'Melissa Palmer Branch')), \n",
       "('4', (SELECT book_id FROM library.book WHERE title = 'Face-to-face mobile archive'), (SELECT branch_id FROM library.library_branch WHERE branch_name = 'Michael Barnes Branch')), \n",
       "('3', (SELECT book_id FROM library.book WHERE title = 'Team-oriented 5thgeneration paradigm'), (SELECT branch_id FROM library.library_branch WHERE branch_name = 'Carrie Hammond Branch')), \n",
       "('1', (SELECT book_id FROM library.book WHERE title = 'Innovative zero administration support'), (SELECT branch_id FROM library.library_branch WHERE branch_name = 'Melissa Palmer Branch'));\n",
       "\n",
       "```"
      ],
      "text/plain": [
       "<IPython.core.display.Markdown object>"
      ]
     },
     "metadata": {},
     "output_type": "display_data"
    },
    {
     "data": {
      "text/markdown": [
       "```SQL\n",
       "\n",
       "INSERT INTO LIBRARY.BORROWER (name, address, phone)\n",
       "\tVALUES('Steven Jenkins', '381 Williams Views Suite 279\n",
       "Garciahaven, TN 73228', '176-010-6225'), \n",
       "('Lindsey Hanson', '10251 Kristen Radial Apt. 698\n",
       "Hickmanberg, NV 80983', '928-525-7549'), \n",
       "('Michael Johnson', '27966 Anderson Village Apt. 382\n",
       "Lake John, AL 64436', '522-667-9368');\n",
       "\n",
       "```"
      ],
      "text/plain": [
       "<IPython.core.display.Markdown object>"
      ]
     },
     "metadata": {},
     "output_type": "display_data"
    },
    {
     "data": {
      "text/markdown": [
       "```SQL\n",
       "\n",
       "INSERT INTO LIBRARY.book_loans (book_id, branch_id, card_no, Date_out, Due_date)\n",
       "\tVALUES((SELECT book_id FROM library.book WHERE title = 'Face-to-face mobile archive'), (SELECT branch_id FROM library.library_branch WHERE branch_name = 'Carrie Hammond Branch'), (SELECT card_no FROM library.borrower WHERE name = 'Lindsey Hanson' and address = '10251 Kristen Radial Apt. 698\n",
       "Hickmanberg, NV 80983'), now() - '3 day'::interval, now() + '1 month'::interval), \n",
       "((SELECT book_id FROM library.book WHERE title = 'Face-to-face mobile archive'), (SELECT branch_id FROM library.library_branch WHERE branch_name = 'Melissa Palmer Branch'), (SELECT card_no FROM library.borrower WHERE name = 'Lindsey Hanson' and address = '10251 Kristen Radial Apt. 698\n",
       "Hickmanberg, NV 80983'), now() - '1 month'::interval, now() + '1 month'::interval), \n",
       "((SELECT book_id FROM library.book WHERE title = 'Face-to-face mobile archive'), (SELECT branch_id FROM library.library_branch WHERE branch_name = 'Michael Barnes Branch'), (SELECT card_no FROM library.borrower WHERE name = 'Michael Johnson' and address = '27966 Anderson Village Apt. 382\n",
       "Lake John, AL 64436'), now() - '3 month'::interval, now() + '1 month'::interval), \n",
       "((SELECT book_id FROM library.book WHERE title = 'Team-oriented 5thgeneration paradigm'), (SELECT branch_id FROM library.library_branch WHERE branch_name = 'Carrie Hammond Branch'), (SELECT card_no FROM library.borrower WHERE name = 'Steven Jenkins' and address = '381 Williams Views Suite 279\n",
       "Garciahaven, TN 73228'), now() - '4 month'::interval, now() + '3 month'::interval), \n",
       "((SELECT book_id FROM library.book WHERE title = 'Innovative zero administration support'), (SELECT branch_id FROM library.library_branch WHERE branch_name = 'Melissa Palmer Branch'), (SELECT card_no FROM library.borrower WHERE name = 'Steven Jenkins' and address = '381 Williams Views Suite 279\n",
       "Garciahaven, TN 73228'), now() - '1 day'::interval, now() + '3 month'::interval);\n",
       "\n",
       "```"
      ],
      "text/plain": [
       "<IPython.core.display.Markdown object>"
      ]
     },
     "metadata": {},
     "output_type": "display_data"
    }
   ],
   "source": [
    "\"\"\"\n",
    "Created on: February 14, 2024\n",
    "\n",
    "Author: Tuck Williamson\n",
    "\n",
    "Assignment: 601 Misc\\Library\n",
    "Description: Library Faker\n",
    "\n",
    "Library Faker\n",
    "=============\n",
    "This module creates fake data for testing purposes.\n",
    "\"\"\"\n",
    "from faker import Faker\n",
    "import typing\n",
    "from IPython.display import Markdown\n",
    "\n",
    "Faker.seed(601)\n",
    "fake = Faker('en_US')\n",
    "\n",
    "sqte = \"'\"\n",
    "sqteJoin = \", \"\n",
    "\n",
    "\n",
    "def create_sql_insert(elements: typing.Iterable[typing.Iterable[str]], table: str,\n",
    "                      fields: typing.Iterable[str] = None) -> str:\n",
    "    \"\"\"\n",
    "    This creates a **SQL INSERT** statement given the elements and table name.\n",
    "    Fields can also be specified as an array of strings in the order they\n",
    "    were placed in the tuples in the elements list.\n",
    "\n",
    "    :param elements: The elements to inject as values into the table. Any elements that\n",
    "    :param table: The name of the table to insert into.\n",
    "    :param fields: An optional list of fields names in the order that they were placed in the elements list items.\n",
    "    :return: A string containing the sql for the insert statement.\n",
    "\n",
    "    \"\"\"\n",
    "    return f'```SQL\\n\\nINSERT INTO {table}{\"\" if fields is None else \" (\" + \", \".join(fields) + \")\"}\\n\\tVALUES' + ', \\n'.join(\n",
    "        [f\"({sqteJoin.join(ele)})\" for ele in\n",
    "         [[sqte + ele + sqte if not ele.startswith('raw: ') else ele[5:] for ele in etuple] for etuple in\n",
    "          elements]]) + \";\\n\\n```\"\n",
    "\n",
    "\n",
    "# This will hold our final SQL string.\n",
    "# sqlOut: str = \"\"\n",
    "\n",
    "pubNum = 3\n",
    "\n",
    "pubs = [(fake.company(), fake.address(), fake.numerify('###-###-####')) for i in range(pubNum)]\n",
    "display(Markdown(create_sql_insert(pubs, \"LIBRARY.PUBLISHER\")))\n",
    "\n",
    "# Pull the key -> name out to randomize.\n",
    "pubKeys = [pub[0] for pub in pubs]\n",
    "\n",
    "bookNum = 3\n",
    "books = [(fake.catch_phrase(), fake.random_element(elements=pubKeys)) for book in range(bookNum)]\n",
    "display(Markdown(create_sql_insert(books, \"LIBRARY.BOOK\", fields=[\"title\", \"publisher_name\"])))\n",
    "\n",
    "\n",
    "def make_select_for_key(key: str, table: str, column: str = None, value: str = None, where_clause: str = None) -> str:\n",
    "    \"\"\"\n",
    "    This creates a **SQL SELECT** statement from the given parameters.\n",
    "    These are generally used inside the SQL INSERT statements created from create_sql_insert.\n",
    "    :param key: The name of the column to select, or a **string** with the name of multiple columns to\n",
    "        select separated by commas.\n",
    "    :param table: The name of the table to select from.\n",
    "    :param column: The name of the column to check against value.\n",
    "    :param value: The value to check against. See _whereClause_.\n",
    "    :param where_clause: If whereClause is specified and value and column are None then the whereClause will\n",
    "        be inserted into the statement as is. This is useful when you need to check multiple values.\n",
    "    :return: A string with the select statement.\n",
    "    \"\"\"\n",
    "    if value is None and where_clause is None:\n",
    "        raise Exception(\"Cannot have value and whereClause both None. Either specify value or whereClause.\")\n",
    "    if column is None and value is not None:\n",
    "        column = key\n",
    "\n",
    "    if column is None and value is None:\n",
    "        return f\"raw: (SELECT {key} FROM {table} WHERE {where_clause})\"\n",
    "    else:\n",
    "        return f\"raw: (SELECT {key} FROM {table} WHERE {column} = '{value}')\"\n",
    "\n",
    "\n",
    "bookWhere = [book[0] for book in books]\n",
    "authors = [(fake.name(), make_select_for_key('book_id', 'library.book', column='title', value=book)) for book in\n",
    "           bookWhere]\n",
    "\n",
    "display(Markdown(create_sql_insert(authors, \"LIBRARY.BOOK_AUTHORS\", fields=[\"author_name\", \"book_id\"])))\n",
    "\n",
    "branchNum = 3\n",
    "branches = [(fake.name() + \" Branch\", fake.address()) for branch in range(3)]\n",
    "branchWhere = [branch[0] for branch in branches]\n",
    "\n",
    "display(Markdown(create_sql_insert(branches, \"LIBRARY.LIBRARY_BRANCH\", fields=[\"branch_name\", \"address\"])))\n",
    "\n",
    "# Now create some books to check out.\n",
    "# Will start with some popular titles (every branch has some).\n",
    "popularBooks = bookWhere[:(bookNum // 3)]\n",
    "# Less popular (1-2) have copies.\n",
    "\n",
    "lessPopularBooks = bookWhere[(bookNum // 3):bookNum - (bookNum // 3)]\n",
    "# And finally 1 random branch has a copy\n",
    "unPopularBooks = bookWhere[bookNum - (bookNum // 3):]\n",
    "assert bookNum == len(popularBooks) + len(lessPopularBooks) + len(unPopularBooks)\n",
    "\n",
    "copies = []\n",
    "library_branch = 'library.library_branch'\n",
    "library_book = 'library.book'\n",
    "[\n",
    "    copies.extend(\n",
    "        [\n",
    "            (str(fake.random_int(min=1, max=5)),\n",
    "             make_select_for_key('book_id', library_book, column='title', value=book),\n",
    "             make_select_for_key('branch_id', library_branch, column='branch_name', value=branch)) for branch\n",
    "            in branchWhere\n",
    "        ]) for book in popularBooks\n",
    "]\n",
    "# This one has a random number of branches and fewer copies.\n",
    "[\n",
    "    copies.extend(\n",
    "        [\n",
    "            (str(fake.random_int(min=1, max=3)),\n",
    "             make_select_for_key('book_id', library_book, column='title', value=book),\n",
    "             make_select_for_key('branch_id', library_branch, column='branch_name', value=branch)) for branch\n",
    "            in fake.random_elements(branchWhere, unique=True)\n",
    "        ]) for book in lessPopularBooks\n",
    "]\n",
    "# This one has a branch each and fewer copies.\n",
    "[\n",
    "    copies.append(\n",
    "        (str(fake.random_int(min=1, max=2)),\n",
    "         make_select_for_key('book_id', library_book, column='title', value=book),\n",
    "         make_select_for_key('branch_id', library_branch, column='branch_name', value=fake.random_element(branchWhere)))\n",
    "    ) for book in unPopularBooks\n",
    "]\n",
    "display(Markdown(create_sql_insert(copies, \"LIBRARY.BOOK_COPIES\", fields=[\"no_of_copies\", \"book_id\", \"branch_id\"])))\n",
    "\n",
    "borrowNumbers = 3\n",
    "borrowers = [(fake.name(), fake.address(), fake.numerify('###-###-####')) for borrower in range(borrowNumbers)]\n",
    "\n",
    "display(Markdown(create_sql_insert(borrowers, \"LIBRARY.BORROWER\", fields=[\"name\", \"address\", \"phone\"])))\n",
    "\n",
    "\n",
    "def get_rnd_date(future_date: bool = False) -> str:\n",
    "    \"\"\"\n",
    "    This generates a random date offset from today. If future_date is true, it will be a date in the future.\n",
    "\n",
    "    :param future_date: If true, it will be a date in the future.\n",
    "    :return: String with random date for a SQL insertion.\n",
    "    \"\"\"\n",
    "    return \"raw: now() {} '{} {}'::interval\".format('+' if future_date else '-', fake.random_element(\n",
    "        [1, 2, 2, 2, 1, 1, 1, 1, 2, 1, 1, 1, 3, 1, 4, 4, 3]),\n",
    "                                                    fake.random_element(['day', 'month', 'week']))\n",
    "\n",
    "\n",
    "bookLoans = [(book_copies[1],\n",
    "              book_copies[2],\n",
    "              make_select_for_key('card_no', 'library.borrower',\n",
    "                                  where_clause=\"name = '{0}' and address = '{1}'\".format(\n",
    "                                      *fake.random_element(borrowers))), get_rnd_date(), get_rnd_date(True)) for\n",
    "             book_copies in\n",
    "             copies]\n",
    "# I could randomly switch that future boolean on the second get_rnd_date to have some books overdue.\n",
    "\n",
    "display(Markdown(create_sql_insert(bookLoans, \"LIBRARY.book_loans\",\n",
    "                            fields=[\"book_id\", \"branch_id\", \"card_no\", 'Date_out', 'Due_date'])))\n",
    "\n",
    "# sqlOut = sqlOut.replace(\"'(\", \"(\").replace(\")'\", \")\")"
   ]
  }
 ],
 "metadata": {
  "kernelspec": {
   "display_name": "Python 3",
   "language": "python",
   "name": "python3"
  },
  "language_info": {
   "codemirror_mode": {
    "name": "ipython",
    "version": 3
   },
   "file_extension": ".py",
   "mimetype": "text/x-python",
   "name": "python",
   "nbconvert_exporter": "python",
   "pygments_lexer": "ipython3",
   "version": "3.10.13"
  }
 },
 "nbformat": 4,
 "nbformat_minor": 2
}
